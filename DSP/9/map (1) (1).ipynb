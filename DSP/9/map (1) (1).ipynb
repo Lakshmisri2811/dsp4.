{
 "cells": [
  {
   "cell_type": "code",
   "execution_count": 2,
   "metadata": {
    "colab": {
     "base_uri": "https://localhost:8080/",
     "height": 798
    },
    "executionInfo": {
     "elapsed": 26,
     "status": "ok",
     "timestamp": 1660110568336,
     "user": {
      "displayName": "Sesha Kumar Nalluri",
      "userId": "07214908308309596051"
     },
     "user_tz": -330
    },
    "id": "QDnglQmcgK8P",
    "outputId": "4fcaa845-7ddd-4e8c-8bf7-c69f37461a23"
   },
   "outputs": [
    {
     "ename": "ModuleNotFoundError",
     "evalue": "No module named 'folium'",
     "output_type": "error",
     "traceback": [
      "\u001b[1;31m---------------------------------------------------------------------------\u001b[0m",
      "\u001b[1;31mModuleNotFoundError\u001b[0m                       Traceback (most recent call last)",
      "Input \u001b[1;32mIn [2]\u001b[0m, in \u001b[0;36m<cell line: 1>\u001b[1;34m()\u001b[0m\n\u001b[1;32m----> 1\u001b[0m \u001b[38;5;28;01mimport\u001b[39;00m \u001b[38;5;21;01mfolium\u001b[39;00m\n\u001b[0;32m      2\u001b[0m \u001b[38;5;66;03m# define the world map\u001b[39;00m\n\u001b[0;32m      3\u001b[0m world_map \u001b[38;5;241m=\u001b[39m folium\u001b[38;5;241m.\u001b[39mMap()\n",
      "\u001b[1;31mModuleNotFoundError\u001b[0m: No module named 'folium'"
     ]
    }
   ],
   "source": [
    "import folium\n",
    "# define the world map\n",
    "world_map = folium.Map()\n",
    "\n",
    "# display world map\n",
    "world_map"
   ]
  },
  {
   "cell_type": "code",
   "execution_count": 3,
   "metadata": {
    "colab": {
     "base_uri": "https://localhost:8080/",
     "height": 798
    },
    "executionInfo": {
     "elapsed": 507,
     "status": "ok",
     "timestamp": 1660110687377,
     "user": {
      "displayName": "Sesha Kumar Nalluri",
      "userId": "07214908308309596051"
     },
     "user_tz": -330
    },
    "id": "eFJ4vuNQg2ek",
    "outputId": "4859b4c5-08fd-48de-e31d-bce6120ab362",
    "scrolled": true
   },
   "outputs": [
    {
     "ename": "NameError",
     "evalue": "name 'folium' is not defined",
     "output_type": "error",
     "traceback": [
      "\u001b[1;31m---------------------------------------------------------------------------\u001b[0m",
      "\u001b[1;31mNameError\u001b[0m                                 Traceback (most recent call last)",
      "Input \u001b[1;32mIn [3]\u001b[0m, in \u001b[0;36m<cell line: 1>\u001b[1;34m()\u001b[0m\n\u001b[1;32m----> 1\u001b[0m nuzvid\u001b[38;5;241m=\u001b[39m\u001b[43mfolium\u001b[49m\u001b[38;5;241m.\u001b[39mMap(location\u001b[38;5;241m=\u001b[39m[\u001b[38;5;241m16.7850\u001b[39m, \u001b[38;5;241m80.8488\u001b[39m])\n\u001b[0;32m      2\u001b[0m nuzvid\n",
      "\u001b[1;31mNameError\u001b[0m: name 'folium' is not defined"
     ]
    }
   ],
   "source": [
    "nuzvid=folium.Map(location=[16.7850, 80.8488])\n",
    "nuzvid"
   ]
  },
  {
   "cell_type": "code",
   "execution_count": null,
   "metadata": {
    "colab": {
     "base_uri": "https://localhost:8080/",
     "height": 371
    },
    "executionInfo": {
     "elapsed": 464,
     "status": "ok",
     "timestamp": 1660110874949,
     "user": {
      "displayName": "Sesha Kumar Nalluri",
      "userId": "07214908308309596051"
     },
     "user_tz": -330
    },
    "id": "10FP-uXshKPk",
    "outputId": "60a0292a-a412-4438-bea8-e909e0e2eab0"
   },
   "outputs": [],
   "source": [
    "#resize our map by using the branca library in Python\n",
    "from branca.element import Figure\n",
    "fig=Figure(width=550,height=350)\n",
    "map1=folium.Map(location=[16.7850, 80.8488],zoom_start=12,min_zoom=8,max_zoom=14)\n",
    "fig.add_child(map1)\n",
    "map1"
   ]
  },
  {
   "cell_type": "code",
   "execution_count": null,
   "metadata": {},
   "outputs": [],
   "source": []
  },
  {
   "cell_type": "code",
   "execution_count": null,
   "metadata": {
    "colab": {
     "base_uri": "https://localhost:8080/",
     "height": 571
    },
    "executionInfo": {
     "elapsed": 448,
     "status": "ok",
     "timestamp": 1660098070337,
     "user": {
      "displayName": "Sesha Kumar Nalluri",
      "userId": "07214908308309596051"
     },
     "user_tz": -330
    },
    "id": "ekOZwyn_h5fC",
    "outputId": "df4dced1-566f-4631-bead-711b070b749d"
   },
   "outputs": [],
   "source": [
    "fig2=Figure(width=850,height=550)\n",
    "map2=folium.Map(location=[16.7850, 80.8488])\n",
    "fig2.add_child(map2)\n",
    "folium.TileLayer('Stamen Terrain').add_to(map2)\n",
    "folium.TileLayer('Stamen Toner').add_to(map2)\n",
    "folium.TileLayer('Stamen Water Color').add_to(map2)\n",
    "folium.TileLayer('cartodbpositron').add_to(map2)\n",
    "folium.TileLayer('cartodbdark_matter').add_to(map2)\n",
    "folium.LayerControl().add_to(map2)\n",
    "map2"
   ]
  },
  {
   "cell_type": "code",
   "execution_count": null,
   "metadata": {
    "colab": {
     "base_uri": "https://localhost:8080/",
     "height": 371
    },
    "executionInfo": {
     "elapsed": 429,
     "status": "ok",
     "timestamp": 1660098593532,
     "user": {
      "displayName": "Sesha Kumar Nalluri",
      "userId": "07214908308309596051"
     },
     "user_tz": -330
    },
    "id": "gtFeWGZKjorg",
    "outputId": "9cbe0795-4c9e-4fa7-851d-e3c52ba29d1a"
   },
   "outputs": [],
   "source": [
    "# Creating Basemap\n",
    "fig3=Figure(width=550,height=350)\n",
    "map3=folium.Map(location=[16.7850, 80.8488],tiles='cartodbpositron',zoom_start=8)\n",
    "fig3.add_child(map3)\n",
    "\n",
    "#Adding markers to the map\n",
    "folium.Marker(location=[16.5062, 80.6480],popup='Default popup Marker1',tooltip='Click here to see more details').add_to(map3)\n",
    "folium.Marker(location=[16.7107, 81.0952],popup='<strong>Marker3</strong>',tooltip='<strong>Click here to see Popup</strong>').add_to(map3)\n",
    "folium.Marker(location=[16.3067, 80.4365],popup='<h3 style=\"color:green;\">Marker2</h3>',tooltip='<strong>Click here to see Guntur</strong>').add_to(map3)\n",
    "\n",
    "map3"
   ]
  },
  {
   "cell_type": "code",
   "execution_count": null,
   "metadata": {
    "colab": {
     "base_uri": "https://localhost:8080/",
     "height": 371
    },
    "executionInfo": {
     "elapsed": 709,
     "status": "ok",
     "timestamp": 1660098752356,
     "user": {
      "displayName": "Sesha Kumar Nalluri",
      "userId": "07214908308309596051"
     },
     "user_tz": -330
    },
    "id": "FjsdE-tjlyIA",
    "outputId": "ecd043aa-170d-4315-b5c3-f9677153eab1"
   },
   "outputs": [],
   "source": [
    "# Creating Basemap\n",
    "fig3=Figure(width=550,height=350)\n",
    "map3=folium.Map(location=[16.7850, 80.8488],tiles='cartodbpositron',zoom_start=8)\n",
    "fig3.add_child(map3)\n",
    "\n",
    "#Adding markers to the map\n",
    "folium.Marker(location=[16.5062, 80.6480],popup='Default popup Marker1',tooltip='Click here to see more details',icon=folium.Icon(color='red',icon='none')).add_to(map3)\n",
    "folium.Marker(location=[16.7107, 81.0952],popup='<strong>Marker3</strong>',tooltip='<strong>Click here to see Popup</strong>',icon=folium.Icon(color='green',prefix='glyphicon',icon='off')).add_to(map3)\n",
    "folium.Marker(location=[16.3067, 80.4365],popup='<h3 style=\"color:green;\">Marker2</h3>',tooltip='<strong>Click here to see Guntur</strong>',icon=folium.Icon(color='purple',prefix='fa',icon='anchor')).add_to(map3)\n",
    "\n",
    "map3"
   ]
  },
  {
   "cell_type": "code",
   "execution_count": null,
   "metadata": {
    "executionInfo": {
     "elapsed": 10,
     "status": "ok",
     "timestamp": 1660104795565,
     "user": {
      "displayName": "Sesha Kumar Nalluri",
      "userId": "07214908308309596051"
     },
     "user_tz": -330
    },
    "id": "_iQVfu7Z8-EM"
   },
   "outputs": [],
   "source": [
    "coords_1=[[28.65685,77.21899],[28.65699,77.21898],[28.65699,77.21898],\n",
    "[28.65702,77.21875],[28.65702,77.21875],[28.6547,77.21902],[28.65308,77.21921],\n",
    "[28.65286,77.21926],[28.65255,77.21938],[28.65227,77.21954],[28.65152,77.22005],\n",
    "[28.64655,77.22346],[28.64643,77.22354],[28.64635,77.22357],[28.64623,77.2236],\n",
    "[28.64616,77.22363],[28.64612,77.22364],[28.64557,77.22364],[28.64525,77.22365],\n",
    "[28.64525,77.22365],[28.64517,77.22366],[28.64515,77.22367],[28.64512,77.22367],\n",
    "[28.64504,77.22369],[28.64493,77.22371],[28.64483,77.22373],[28.64462,77.22377],\n",
    "[28.6445,77.22381],[28.64444,77.22383],[28.64439,77.22387],[28.64434,77.2239],\n",
    "[28.64429,77.22395],[28.64421,77.22403],[28.64417,77.22412],[28.64407,77.22429],\n",
    "[28.64391,77.22465],[28.64353,77.22539],[28.64282,77.22678],[28.64282,77.22678],\n",
    "[28.64285,77.2268],[28.64287,77.22683],[28.64289,77.22686],[28.64291,77.2269],\n",
    "[28.64292,77.22694],[28.64292,77.22697],[28.64292,77.22701],[28.64292,77.22705],\n",
    "[28.64292,77.22705],[28.64291,77.22711],[28.64288,77.22716],[28.64285,77.2272],\n",
    "[28.64281,77.22724],[28.64276,77.22726],[28.64271,77.22728],[28.64266,77.22728],\n",
    "[28.64261,77.22727],[28.64261,77.22727],[28.64257,77.22725],[28.64254,77.22723],\n",
    "[28.64251,77.2272],[28.64249,77.22717],[28.64247,77.22713],[28.64245,77.22709],\n",
    "[28.64244,77.22704],[28.64244,77.22699],[28.64245,77.22693],[28.64246,77.22689],\n",
    "[28.64214,77.22665],[28.64169,77.22632],[28.64163,77.22627],[28.64095,77.22582],\n",
    "[28.64009,77.22516],[28.63913,77.22445],[28.63799,77.22352],[28.63794,77.22349],\n",
    "[28.63761,77.22327],[28.6375,77.2232],[28.63737,77.22311],[28.63727,77.22304],\n",
    "[28.63706,77.22288],[28.63631,77.22233],[28.63528,77.2216],[28.63521,77.22154],\n",
    "[28.63521,77.22154],[28.63518,77.22158],[28.63499,77.2218],[28.63471,77.22212],\n",
    "[28.63442,77.22238],[28.63411,77.2226],[28.6339,77.22272],[28.63368,77.22282],\n",
    "[28.63345,77.2229],[28.63313,77.22297],[28.63281,77.22299],[28.63249,77.22298],\n",
    "[28.63217,77.22293],[28.63186,77.22283],[28.63141,77.22256],[28.63125,77.2224],\n",
    "[28.63101,77.22227],[28.63082,77.22207],[28.63062,77.22185],[28.63046,77.22162],\n",
    "[28.63029,77.22141],[28.63029,77.22141],[28.63026,77.22138],[28.63022,77.22136],\n",
    "[28.63018,77.22135],[28.63014,77.22134],[28.6301,77.22134],[28.63006,77.22135],\n",
    "[28.63004,77.22135],[28.63004,77.22135]]\n",
    "\n",
    "coords_2=[[28.63382,77.22045],[28.63458,77.221],[28.63514,77.22142],\n",
    "[28.63517,77.22146],[28.63519,77.22151],[28.63518,77.22158],[28.63518,77.22158],\n",
    "[28.63499,77.2218],[28.63471,77.22212],[28.63442,77.22238],[28.63411,77.2226],\n",
    "[28.6339,77.22272],[28.63368,77.22282],[28.63345,77.2229],[28.63313,77.22297],\n",
    "[28.63281,77.22299],[28.63249,77.22298],[28.63217,77.22293],[28.63186,77.22283],\n",
    "[28.63141,77.22256],[28.63141,77.22256],[28.63129,77.22258],[28.63121,77.22259],\n",
    "[28.63113,77.22266],[28.63072,77.22335],[28.63063,77.22353],[28.63059,77.22359],\n",
    "[28.63046,77.22381],[28.63043,77.22388],[28.62914,77.22615],[28.62914,77.22615],\n",
    "[28.62922,77.22648],[28.62923,77.22651],[28.62924,77.22653],[28.62925,77.22655],\n",
    "[28.62926,77.22657],[28.62935,77.22665],[28.62937,77.22667],[28.62938,77.22669],\n",
    "[28.62939,77.22672],[28.62943,77.22682],[28.62943,77.22682],[28.62972,77.22701],\n",
    "[28.63027,77.22744],[28.63436,77.23048],[28.63456,77.2306],[28.63482,77.23072],\n",
    "[28.63511,77.23084],[28.63545,77.23091],[28.63581,77.23095],[28.63656,77.23101],\n",
    "[28.63673,77.23102],[28.63824,77.23116],[28.63985,77.23134],[28.64039,77.23144],\n",
    "[28.64039,77.23144],[28.64049,77.23147],[28.64038,77.23156],[28.64022,77.23153],\n",
    "[28.64022,77.23153]]\n",
    "\n",
    "coords_3=[[28.63216,77.21864],[28.63225,77.21858],[28.63237,77.21851],\n",
    "[28.6325,77.21846],[28.63262,77.21843],[28.63279,77.21841],[28.63295,77.21843],\n",
    "[28.63311,77.21846],[28.63326,77.21853],[28.63341,77.21862],[28.63341,77.21862],\n",
    "[28.63394,77.21768],[28.6342,77.21722],[28.63425,77.21713],[28.6343,77.21704],\n",
    "[28.6343,77.21704],[28.63432,77.21686],[28.63495,77.21581],[28.6357,77.21452],\n",
    "[28.63745,77.21151],[28.63951,77.20794],[28.63956,77.20787],[28.63971,77.20763],\n",
    "[28.64055,77.2061],[28.64096,77.20533],[28.64106,77.20519],[28.64121,77.20486],\n",
    "[28.64132,77.20468],[28.64179,77.20418],[28.64222,77.20381],[28.64254,77.20346],\n",
    "[28.64267,77.20333],[28.64277,77.2032],[28.64277,77.2032],[28.64281,77.20314],\n",
    "[28.64285,77.20309],[28.64291,77.20306],[28.64297,77.20304],[28.64303,77.20303],\n",
    "[28.64309,77.20304],[28.64315,77.20306],[28.6432,77.2031],[28.64324,77.20314],\n",
    "[28.64327,77.2032],[28.64327,77.2032],[28.64341,77.20336],[28.64375,77.20351],\n",
    "[28.64406,77.20367],[28.64495,77.20426],[28.6459,77.20495],[28.64612,77.2051],\n",
    "[28.64612,77.2051],[28.64629,77.2051],[28.64639,77.20508],[28.64648,77.20506],\n",
    "[28.64657,77.20497],[28.64659,77.20495],[28.64659,77.20495]]"
   ]
  },
  {
   "cell_type": "code",
   "execution_count": null,
   "metadata": {
    "colab": {
     "base_uri": "https://localhost:8080/",
     "height": 571
    },
    "executionInfo": {
     "elapsed": 433,
     "status": "ok",
     "timestamp": 1660104964800,
     "user": {
      "displayName": "Sesha Kumar Nalluri",
      "userId": "07214908308309596051"
     },
     "user_tz": -330
    },
    "id": "n_y66QWl9AE7",
    "outputId": "beea5de6-ac63-4efc-8210-e9d4009821d1"
   },
   "outputs": [],
   "source": [
    "fig5=Figure(height=550,width=750)\n",
    "map5=folium.Map(location=[28.644800, 77.216721],tiles='cartodbpositron',zoom_start=14)\n",
    "fig5.add_child(map5)"
   ]
  },
  {
   "cell_type": "code",
   "execution_count": null,
   "metadata": {
    "colab": {
     "base_uri": "https://localhost:8080/",
     "height": 571
    },
    "executionInfo": {
     "elapsed": 472,
     "status": "ok",
     "timestamp": 1660105394841,
     "user": {
      "displayName": "Sesha Kumar Nalluri",
      "userId": "07214908308309596051"
     },
     "user_tz": -330
    },
    "id": "kPDb0aZw-d5w",
    "outputId": "ff3f5ecb-4605-48b8-b246-ba254ce02e4b"
   },
   "outputs": [],
   "source": [
    "# Creating feature groups\n",
    "f1=folium.FeatureGroup(\"Vehicle 1\")\n",
    "f2=folium.FeatureGroup(\"Vehicle 2\")\n",
    "f3=folium.FeatureGroup(\"Vehicle 3\")\n",
    "\n",
    "# Adding lines to the different feature groups\n",
    "line_1=folium.vector_layers.PolyLine(coords_1,popup='<b>Path of Vehicle_1</b>',tooltip='Vehicle_1',color='blue',weight=10).add_to(f1)\n",
    "line_2=folium.vector_layers.PolyLine(coords_2,popup='<b>Path of Vehicle_2</b>',tooltip='Vehicle_2',color='red',weight=10).add_to(f2)\n",
    "line_3=folium.vector_layers.PolyLine(coords_3,popup='<b>Path of Vehicle_3</b>',tooltip='Vehicle_3',color='green',weight=10).add_to(f3)\n",
    "\n",
    "f1.add_to(map5)\n",
    "f2.add_to(map5)\n",
    "f3.add_to(map5)\n",
    "folium.LayerControl().add_to(map5)\n",
    "map5"
   ]
  },
  {
   "cell_type": "code",
   "execution_count": null,
   "metadata": {
    "colab": {
     "base_uri": "https://localhost:8080/"
    },
    "executionInfo": {
     "elapsed": 1700,
     "status": "ok",
     "timestamp": 1660113148694,
     "user": {
      "displayName": "Sesha Kumar Nalluri",
      "userId": "07214908308309596051"
     },
     "user_tz": -330
    },
    "id": "p3tU13JyAS5s",
    "outputId": "00791290-a297-4b9f-e08f-0c89c042dc62"
   },
   "outputs": [],
   "source": [
    "import pandas as pd\n",
    "\n",
    "url = (\n",
    "    \"https://raw.githubusercontent.com/python-visualization/folium/master/examples/data\"\n",
    ")\n",
    "state_geo = f\"{url}/us-states.json\"\n",
    "state_unemployment = f\"{url}/US_Unemployment_Oct2012.csv\"\n",
    "state_data = pd.read_csv(state_unemployment)\n",
    "\n",
    "m = folium.Map(location=[48, -102], zoom_start=3)\n",
    "\n",
    "folium.Choropleth(\n",
    "    geo_data=state_geo,\n",
    "    name=\"choropleth\",\n",
    "    data=state_data,\n",
    "    columns=[\"State\", \"Unemployment\"],\n",
    "    key_on=\"feature.id\",\n",
    "    fill_color=\"YlGn\",\n",
    "    fill_opacity=0.8,\n",
    "    line_opacity=0.2,\n",
    "    legend_name=\"Unemployment Rate (%)\",\n",
    ").add_to(m)\n",
    "\n",
    "folium.LayerControl().add_to(m)\n",
    "\n",
    "m"
   ]
  },
  {
   "cell_type": "code",
   "execution_count": null,
   "metadata": {},
   "outputs": [],
   "source": []
  },
  {
   "cell_type": "code",
   "execution_count": null,
   "metadata": {},
   "outputs": [],
   "source": []
  },
  {
   "cell_type": "code",
   "execution_count": null,
   "metadata": {},
   "outputs": [],
   "source": []
  },
  {
   "cell_type": "code",
   "execution_count": null,
   "metadata": {},
   "outputs": [],
   "source": []
  },
  {
   "cell_type": "code",
   "execution_count": null,
   "metadata": {},
   "outputs": [],
   "source": []
  },
  {
   "cell_type": "code",
   "execution_count": null,
   "metadata": {},
   "outputs": [],
   "source": []
  },
  {
   "cell_type": "code",
   "execution_count": null,
   "metadata": {},
   "outputs": [],
   "source": []
  }
 ],
 "metadata": {
  "colab": {
   "authorship_tag": "ABX9TyPf2+1iyLV7siosHKGyyV+s",
   "name": "map.ipynb",
   "provenance": []
  },
  "kernelspec": {
   "display_name": "Python 3 (ipykernel)",
   "language": "python",
   "name": "python3"
  },
  "language_info": {
   "codemirror_mode": {
    "name": "ipython",
    "version": 3
   },
   "file_extension": ".py",
   "mimetype": "text/x-python",
   "name": "python",
   "nbconvert_exporter": "python",
   "pygments_lexer": "ipython3",
   "version": "3.9.12"
  }
 },
 "nbformat": 4,
 "nbformat_minor": 1
}
