{
 "cells": [
  {
   "cell_type": "code",
   "execution_count": 1,
   "id": "e2cfb5e7",
   "metadata": {},
   "outputs": [
    {
     "name": "stdout",
     "output_type": "stream",
     "text": [
      "[1 6 7]\n"
     ]
    }
   ],
   "source": [
    "import numpy as np\n",
    "x=np.array([3,4,5])\n",
    "y=np.array(x^2)\n",
    "print(y)"
   ]
  },
  {
   "cell_type": "code",
   "execution_count": 2,
   "id": "f8184516",
   "metadata": {},
   "outputs": [
    {
     "name": "stdout",
     "output_type": "stream",
     "text": [
      "[[1 6 7]]\n"
     ]
    }
   ],
   "source": [
    "import numpy as np\n",
    "x=np.array([3,4,5])\n",
    "y=np.array([x^2])\n",
    "print(y)"
   ]
  },
  {
   "cell_type": "code",
   "execution_count": 3,
   "id": "14c93592",
   "metadata": {},
   "outputs": [
    {
     "name": "stdout",
     "output_type": "stream",
     "text": [
      "[3 0 1]\n"
     ]
    }
   ],
   "source": [
    "import numpy as np\n",
    "x=np.array([1,2,3])\n",
    "y=np.array(x^2)\n",
    "print(y)"
   ]
  },
  {
   "cell_type": "code",
   "execution_count": 1,
   "id": "f4830ba4",
   "metadata": {},
   "outputs": [
    {
     "name": "stdout",
     "output_type": "stream",
     "text": [
      "[]\n"
     ]
    }
   ],
   "source": [
    "list =[]\n",
    "print(list)"
   ]
  },
  {
   "cell_type": "code",
   "execution_count": 2,
   "id": "d2d9a847",
   "metadata": {},
   "outputs": [
    {
     "ename": "NameError",
     "evalue": "name 'sri' is not defined",
     "output_type": "error",
     "traceback": [
      "\u001b[1;31m---------------------------------------------------------------------------\u001b[0m",
      "\u001b[1;31mNameError\u001b[0m                                 Traceback (most recent call last)",
      "Input \u001b[1;32mIn [2]\u001b[0m, in \u001b[0;36m<cell line: 1>\u001b[1;34m()\u001b[0m\n\u001b[1;32m----> 1\u001b[0m l1 \u001b[38;5;241m=\u001b[39m [\u001b[38;5;241m1\u001b[39m,\u001b[38;5;241m2\u001b[39m,\u001b[38;5;241m3\u001b[39m,\u001b[43msri\u001b[49m]\n",
      "\u001b[1;31mNameError\u001b[0m: name 'sri' is not defined"
     ]
    }
   ],
   "source": [
    "l1 = [1,2,3,\"sri\"]"
   ]
  },
  {
   "cell_type": "code",
   "execution_count": 3,
   "id": "10765fde",
   "metadata": {},
   "outputs": [
    {
     "ename": "NameError",
     "evalue": "name 'l1' is not defined",
     "output_type": "error",
     "traceback": [
      "\u001b[1;31m---------------------------------------------------------------------------\u001b[0m",
      "\u001b[1;31mNameError\u001b[0m                                 Traceback (most recent call last)",
      "Input \u001b[1;32mIn [3]\u001b[0m, in \u001b[0;36m<cell line: 1>\u001b[1;34m()\u001b[0m\n\u001b[1;32m----> 1\u001b[0m \u001b[38;5;28mprint\u001b[39m(\u001b[43ml1\u001b[49m)\n",
      "\u001b[1;31mNameError\u001b[0m: name 'l1' is not defined"
     ]
    }
   ],
   "source": [
    "print(l1)"
   ]
  },
  {
   "cell_type": "code",
   "execution_count": 4,
   "id": "e619e7c3",
   "metadata": {},
   "outputs": [],
   "source": [
    "list1=[1,2,3,\"sri\"]"
   ]
  },
  {
   "cell_type": "code",
   "execution_count": 5,
   "id": "861c77e0",
   "metadata": {},
   "outputs": [
    {
     "name": "stdout",
     "output_type": "stream",
     "text": [
      "[1, 2, 3, 'sri']\n"
     ]
    }
   ],
   "source": [
    "print(list1)"
   ]
  },
  {
   "cell_type": "code",
   "execution_count": 7,
   "id": "19f6c182",
   "metadata": {},
   "outputs": [
    {
     "name": "stdout",
     "output_type": "stream",
     "text": [
      "[1, 2, 3, 4, 5, 'sri', 'papa', 'satya', 6]\n"
     ]
    }
   ],
   "source": [
    "list=[1,2,3,4,5,\"sri\",\"papa\",\"satya\"]\n",
    "list.append(6)\n",
    "print(list)"
   ]
  },
  {
   "cell_type": "code",
   "execution_count": 12,
   "id": "cf9c78b5",
   "metadata": {},
   "outputs": [
    {
     "ename": "SyntaxError",
     "evalue": "invalid syntax (607329724.py, line 1)",
     "output_type": "error",
     "traceback": [
      "\u001b[1;36m  Input \u001b[1;32mIn [12]\u001b[1;36m\u001b[0m\n\u001b[1;33m    for i in range[7, 16]\u001b[0m\n\u001b[1;37m                         ^\u001b[0m\n\u001b[1;31mSyntaxError\u001b[0m\u001b[1;31m:\u001b[0m invalid syntax\n"
     ]
    }
   ],
   "source": [
    "for i in range[7, 16]\n",
    "   list.append(i)\n",
    "print(list)"
   ]
  },
  {
   "cell_type": "code",
   "execution_count": 11,
   "id": "5c0f3ea3",
   "metadata": {},
   "outputs": [
    {
     "ename": "SyntaxError",
     "evalue": "invalid syntax (37467908.py, line 1)",
     "output_type": "error",
     "traceback": [
      "\u001b[1;36m  Input \u001b[1;32mIn [11]\u001b[1;36m\u001b[0m\n\u001b[1;33m    for i in range(1, 4)\u001b[0m\n\u001b[1;37m                        ^\u001b[0m\n\u001b[1;31mSyntaxError\u001b[0m\u001b[1;31m:\u001b[0m invalid syntax\n"
     ]
    }
   ],
   "source": [
    "for i in range(1, 4)"
   ]
  },
  {
   "cell_type": "code",
   "execution_count": 19,
   "id": "da15fda5",
   "metadata": {},
   "outputs": [
    {
     "ename": "SyntaxError",
     "evalue": "invalid syntax (3948009335.py, line 1)",
     "output_type": "error",
     "traceback": [
      "\u001b[1;36m  Input \u001b[1;32mIn [19]\u001b[1;36m\u001b[0m\n\u001b[1;33m    for i in range(1 , 9)\u001b[0m\n\u001b[1;37m                         ^\u001b[0m\n\u001b[1;31mSyntaxError\u001b[0m\u001b[1;31m:\u001b[0m invalid syntax\n"
     ]
    }
   ],
   "source": [
    "for i in range(1 , 9)\n",
    "print(i)"
   ]
  },
  {
   "cell_type": "code",
   "execution_count": 21,
   "id": "f115b651",
   "metadata": {},
   "outputs": [
    {
     "name": "stdout",
     "output_type": "stream",
     "text": [
      "[1, 2, 3, 'sri', 4, 5, 6, 7, 8]\n"
     ]
    }
   ],
   "source": [
    "myList=[1,2,3,\"sri\"] \n",
    "myList.append(4)\n",
    "myList.append(5)\n",
    "myList.append(6)\n",
    "for i in range(7, 9):\n",
    "    myList.append(i)\n",
    "print(myList)"
   ]
  },
  {
   "cell_type": "code",
   "execution_count": 24,
   "id": "8cfe070c",
   "metadata": {},
   "outputs": [
    {
     "name": "stdout",
     "output_type": "stream",
     "text": [
      "[1, 2, 3, 4, 5, 'sri', 8, 11, 12, 13, 14]\n"
     ]
    }
   ],
   "source": [
    "lakshmisri=[1,2,3,4,5,\"sri\"]\n",
    "lakshmisri.append(8)\n",
    "for i in range(11, 15):\n",
    "    lakshmisri.append(i)\n",
    "print(lakshmisri)"
   ]
  },
  {
   "cell_type": "code",
   "execution_count": 25,
   "id": "75ef38ae",
   "metadata": {},
   "outputs": [
    {
     "name": "stdout",
     "output_type": "stream",
     "text": [
      "[1, 2, 3, 4, 5, 'sri', 8, 11, 12, 13, 14, 4, 5, 6]\n"
     ]
    }
   ],
   "source": [
    "lakshmisri.extend([4,5,6])\n",
    "print(lakshmisri)"
   ]
  },
  {
   "cell_type": "code",
   "execution_count": 28,
   "id": "057205e1",
   "metadata": {},
   "outputs": [
    {
     "name": "stdout",
     "output_type": "stream",
     "text": [
      "[12, 13, 6, 'prudvi', 7, 8, 9, 9, 10, 11, 12, 13, 14]\n"
     ]
    }
   ],
   "source": [
    "bhumi=[12,13,6,\"prudvi\"]\n",
    "bhumi.extend([7,8,9])\n",
    "for i in range(9,15):\n",
    "    bhumi.append(i)\n",
    "print(bhumi)"
   ]
  },
  {
   "cell_type": "code",
   "execution_count": 30,
   "id": "625d6de1",
   "metadata": {},
   "outputs": [
    {
     "name": "stdout",
     "output_type": "stream",
     "text": [
      "[4, 5, 9, 6, 7, 8]\n"
     ]
    }
   ],
   "source": [
    "geetha=[4,5,6,7,8]\n",
    "geetha.insert(2,9)\n",
    "print(geetha)"
   ]
  },
  {
   "cell_type": "markdown",
   "id": "221a2184",
   "metadata": {},
   "source": [
    "###### "
   ]
  },
  {
   "cell_type": "code",
   "execution_count": 35,
   "id": "a27c729b",
   "metadata": {},
   "outputs": [
    {
     "name": "stdout",
     "output_type": "stream",
     "text": [
      "['sri', 'priya', 'srilu']\n"
     ]
    }
   ],
   "source": [
    "r=[\"sri\",\"priya\"]\n",
    "r.insert(9,\"srilu\")\n",
    "print(r)"
   ]
  },
  {
   "cell_type": "code",
   "execution_count": 4,
   "id": "daf14e0f",
   "metadata": {},
   "outputs": [
    {
     "name": "stdout",
     "output_type": "stream",
     "text": [
      "[1, 3, 4, 1, 2, 3, 'priya', 'sri', 'lakshmisri']\n"
     ]
    }
   ],
   "source": [
    "s=[\"sri\",1,3,4,1,2,3,\"priya\",\"sri\",\"lakshmisri\"]\n",
    "s.remove(\"sri\")\n",
    "print(s)"
   ]
  },
  {
   "cell_type": "code",
   "execution_count": 7,
   "id": "a0e7356e",
   "metadata": {},
   "outputs": [
    {
     "name": "stdout",
     "output_type": "stream",
     "text": [
      "[1, 4, 1, 2, 'priya', 'sri', 'lakshmisri']\n"
     ]
    }
   ],
   "source": [
    "s.remove(3)\n",
    "print(s)"
   ]
  },
  {
   "cell_type": "code",
   "execution_count": 8,
   "id": "06d790f2",
   "metadata": {},
   "outputs": [
    {
     "data": {
      "text/plain": [
       "2"
      ]
     },
     "execution_count": 8,
     "metadata": {},
     "output_type": "execute_result"
    }
   ],
   "source": [
    "s.pop(3)"
   ]
  },
  {
   "cell_type": "code",
   "execution_count": 9,
   "id": "ae56d6f5",
   "metadata": {},
   "outputs": [
    {
     "name": "stdout",
     "output_type": "stream",
     "text": [
      "[1, 4, 1, 'priya', 'sri', 'lakshmisri']\n"
     ]
    }
   ],
   "source": [
    "print(s)"
   ]
  },
  {
   "cell_type": "code",
   "execution_count": 15,
   "id": "2c9ff734",
   "metadata": {},
   "outputs": [
    {
     "name": "stdout",
     "output_type": "stream",
     "text": [
      "['anitha', 23, 3, 4, 54, 65, 65]\n"
     ]
    }
   ],
   "source": [
    "sri=[\"geetha\",\"mouni\",\"rupiii\",\"anitha\",23,3,4,54,65,65]\n",
    "print(sri[3:])"
   ]
  },
  {
   "cell_type": "code",
   "execution_count": 12,
   "id": "2259bbe0",
   "metadata": {},
   "outputs": [
    {
     "name": "stdout",
     "output_type": "stream",
     "text": [
      "['geetha', 'mouni', 'rupiii', 'anitha', 23, 3, 4, 54, 65, 65]\n"
     ]
    }
   ],
   "source": [
    "print(sri[:11])"
   ]
  },
  {
   "cell_type": "code",
   "execution_count": 14,
   "id": "1cf2e772",
   "metadata": {},
   "outputs": [
    {
     "name": "stdout",
     "output_type": "stream",
     "text": [
      "['rupiii', 'anitha']\n"
     ]
    }
   ],
   "source": [
    "print(sri[2:4])"
   ]
  },
  {
   "cell_type": "code",
   "execution_count": 17,
   "id": "502021f9",
   "metadata": {},
   "outputs": [
    {
     "name": "stdout",
     "output_type": "stream",
     "text": [
      "[65, 65, 54, 4, 3, 23, 'anitha', 'rupiii', 'mouni', 'geetha']\n"
     ]
    }
   ],
   "source": [
    "print(sri[::-1])"
   ]
  },
  {
   "cell_type": "raw",
   "id": "9ed5a9ad",
   "metadata": {},
   "source": [
    "sri.reverse()\n",
    "print(len(sri))"
   ]
  },
  {
   "cell_type": "code",
   "execution_count": 20,
   "id": "5543fe7f",
   "metadata": {},
   "outputs": [
    {
     "ename": "TypeError",
     "evalue": "list.reverse() takes no arguments (1 given)",
     "output_type": "error",
     "traceback": [
      "\u001b[1;31m---------------------------------------------------------------------------\u001b[0m",
      "\u001b[1;31mTypeError\u001b[0m                                 Traceback (most recent call last)",
      "Input \u001b[1;32mIn [20]\u001b[0m, in \u001b[0;36m<cell line: 1>\u001b[1;34m()\u001b[0m\n\u001b[1;32m----> 1\u001b[0m \u001b[43msri\u001b[49m\u001b[38;5;241;43m.\u001b[39;49m\u001b[43mreverse\u001b[49m\u001b[43m(\u001b[49m\u001b[38;5;241;43m-\u001b[39;49m\u001b[38;5;241;43m2\u001b[39;49m\u001b[43m)\u001b[49m\n\u001b[0;32m      2\u001b[0m \u001b[38;5;28mprint\u001b[39m(\u001b[38;5;28mlen\u001b[39m(sri))\n",
      "\u001b[1;31mTypeError\u001b[0m: list.reverse() takes no arguments (1 given)"
     ]
    }
   ],
   "source": [
    "sri.reverse(-2)\n",
    "print(len(sri))"
   ]
  },
  {
   "cell_type": "code",
   "execution_count": 21,
   "id": "58bf0f32",
   "metadata": {},
   "outputs": [
    {
     "name": "stdout",
     "output_type": "stream",
     "text": [
      "10\n"
     ]
    }
   ],
   "source": [
    "print(len(sri))"
   ]
  },
  {
   "cell_type": "code",
   "execution_count": 28,
   "id": "6861379b",
   "metadata": {},
   "outputs": [
    {
     "name": "stdout",
     "output_type": "stream",
     "text": [
      "zip\n"
     ]
    }
   ],
   "source": [
    "me=[\"priya\",\"sri\",\"azzzzz\",\"zip\",\"x\"]\n",
    "print(max(me))"
   ]
  },
  {
   "cell_type": "code",
   "execution_count": 31,
   "id": "75c51c5a",
   "metadata": {},
   "outputs": [
    {
     "data": {
      "text/plain": [
       "1"
      ]
     },
     "execution_count": 31,
     "metadata": {},
     "output_type": "execute_result"
    }
   ],
   "source": [
    "me.count(('azzzzz'))"
   ]
  },
  {
   "cell_type": "code",
   "execution_count": 4,
   "id": "b2296b61",
   "metadata": {},
   "outputs": [
    {
     "name": "stdout",
     "output_type": "stream",
     "text": [
      "[1, 2, 3, 4, 5, 'bhumi', 7, 'sorry', 23, 2, 45, 65, 43, 78]\n"
     ]
    }
   ],
   "source": [
    "lakshmi=[1,2,3,4,5,\"bhumi\",7]\n",
    "sri=[\"sorry\",23,2,45,65,43,78]\n",
    "lakshmisri=lakshmi+sri\n",
    "print(lakshmisri)"
   ]
  },
  {
   "cell_type": "code",
   "execution_count": 6,
   "id": "191d445c",
   "metadata": {},
   "outputs": [
    {
     "name": "stdout",
     "output_type": "stream",
     "text": [
      "[1, 2, 3, 1, 2, 3]\n"
     ]
    }
   ],
   "source": [
    "list=[1,2,3]\n",
    "print(list*2)"
   ]
  },
  {
   "cell_type": "code",
   "execution_count": 7,
   "id": "8fa7c5ea",
   "metadata": {},
   "outputs": [
    {
     "name": "stdout",
     "output_type": "stream",
     "text": [
      "5\n"
     ]
    }
   ],
   "source": [
    "print(sri.index(43))"
   ]
  },
  {
   "cell_type": "code",
   "execution_count": 8,
   "id": "78b17c16",
   "metadata": {},
   "outputs": [],
   "source": [
    "oye=[1,2,3,4,\"sri\",\"surya\"]\n",
    "oye.clear()"
   ]
  },
  {
   "cell_type": "code",
   "execution_count": 9,
   "id": "a2115cb5",
   "metadata": {},
   "outputs": [
    {
     "name": "stdout",
     "output_type": "stream",
     "text": [
      "[]\n"
     ]
    }
   ],
   "source": [
    "print(oye)"
   ]
  },
  {
   "cell_type": "code",
   "execution_count": null,
   "id": "6003a3d0",
   "metadata": {},
   "outputs": [],
   "source": []
  }
 ],
 "metadata": {
  "kernelspec": {
   "display_name": "Python 3 (ipykernel)",
   "language": "python",
   "name": "python3"
  },
  "language_info": {
   "codemirror_mode": {
    "name": "ipython",
    "version": 3
   },
   "file_extension": ".py",
   "mimetype": "text/x-python",
   "name": "python",
   "nbconvert_exporter": "python",
   "pygments_lexer": "ipython3",
   "version": "3.9.12"
  }
 },
 "nbformat": 4,
 "nbformat_minor": 5
}
