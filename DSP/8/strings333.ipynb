{
 "cells": [
  {
   "cell_type": "code",
   "execution_count": 1,
   "id": "9c5a7a52",
   "metadata": {},
   "outputs": [],
   "source": [
    "a=\"lakshmisri\""
   ]
  },
  {
   "cell_type": "code",
   "execution_count": 2,
   "id": "0c4b9423",
   "metadata": {},
   "outputs": [
    {
     "data": {
      "text/plain": [
       "'Lakshmisri'"
      ]
     },
     "execution_count": 2,
     "metadata": {},
     "output_type": "execute_result"
    }
   ],
   "source": [
    "a.capitalize()"
   ]
  },
  {
   "cell_type": "code",
   "execution_count": 3,
   "id": "fd4cd24a",
   "metadata": {},
   "outputs": [
    {
     "data": {
      "text/plain": [
       "'lakshmisri'"
      ]
     },
     "execution_count": 3,
     "metadata": {},
     "output_type": "execute_result"
    }
   ],
   "source": [
    "a.casefold()"
   ]
  },
  {
   "cell_type": "code",
   "execution_count": 10,
   "id": "623f6e86",
   "metadata": {},
   "outputs": [
    {
     "data": {
      "text/plain": [
       "2"
      ]
     },
     "execution_count": 10,
     "metadata": {},
     "output_type": "execute_result"
    }
   ],
   "source": [
    "a.count('i')"
   ]
  },
  {
   "cell_type": "code",
   "execution_count": 11,
   "id": "46918dd4",
   "metadata": {},
   "outputs": [
    {
     "data": {
      "text/plain": [
       "b'lakshmisri'"
      ]
     },
     "execution_count": 11,
     "metadata": {},
     "output_type": "execute_result"
    }
   ],
   "source": [
    "a.encode()"
   ]
  },
  {
   "cell_type": "code",
   "execution_count": 13,
   "id": "e252edc7",
   "metadata": {},
   "outputs": [
    {
     "data": {
      "text/plain": [
       "False"
      ]
     },
     "execution_count": 13,
     "metadata": {},
     "output_type": "execute_result"
    }
   ],
   "source": [
    "a.endswith('s')"
   ]
  },
  {
   "cell_type": "code",
   "execution_count": 14,
   "id": "4c464406",
   "metadata": {},
   "outputs": [
    {
     "data": {
      "text/plain": [
       "True"
      ]
     },
     "execution_count": 14,
     "metadata": {},
     "output_type": "execute_result"
    }
   ],
   "source": [
    "a.endswith('i')"
   ]
  },
  {
   "cell_type": "code",
   "execution_count": 20,
   "id": "520a9d84",
   "metadata": {},
   "outputs": [
    {
     "data": {
      "text/plain": [
       "'lakshmisri'"
      ]
     },
     "execution_count": 20,
     "metadata": {},
     "output_type": "execute_result"
    }
   ],
   "source": [
    "a.expandtabs()"
   ]
  },
  {
   "cell_type": "code",
   "execution_count": 21,
   "id": "7e74d724",
   "metadata": {},
   "outputs": [],
   "source": [
    "b=\"sri                  lak mi\""
   ]
  },
  {
   "cell_type": "code",
   "execution_count": 23,
   "id": "430dc9bf",
   "metadata": {},
   "outputs": [
    {
     "data": {
      "text/plain": [
       "'sri lak mi'"
      ]
     },
     "execution_count": 23,
     "metadata": {},
     "output_type": "execute_result"
    }
   ],
   "source": [
    "b.expandtabs()"
   ]
  },
  {
   "cell_type": "code",
   "execution_count": 24,
   "id": "58f82109",
   "metadata": {},
   "outputs": [],
   "source": [
    "e=\"My pen is in red color\""
   ]
  },
  {
   "cell_type": "code",
   "execution_count": 25,
   "id": "b77a7c25",
   "metadata": {},
   "outputs": [
    {
     "data": {
      "text/plain": [
       "7"
      ]
     },
     "execution_count": 25,
     "metadata": {},
     "output_type": "execute_result"
    }
   ],
   "source": [
    "e.find('is')"
   ]
  },
  {
   "cell_type": "code",
   "execution_count": 26,
   "id": "879cbca4",
   "metadata": {},
   "outputs": [
    {
     "data": {
      "text/plain": [
       "8"
      ]
     },
     "execution_count": 26,
     "metadata": {},
     "output_type": "execute_result"
    }
   ],
   "source": [
    "e.find('s')"
   ]
  },
  {
   "cell_type": "code",
   "execution_count": 27,
   "id": "edf660db",
   "metadata": {},
   "outputs": [],
   "source": [
    "f=\"fruits\""
   ]
  },
  {
   "cell_type": "code",
   "execution_count": 30,
   "id": "adc3fabb",
   "metadata": {},
   "outputs": [
    {
     "data": {
      "text/plain": [
       "'fruits'"
      ]
     },
     "execution_count": 30,
     "metadata": {},
     "output_type": "execute_result"
    }
   ],
   "source": [
    "f.format('t')"
   ]
  },
  {
   "cell_type": "code",
   "execution_count": 31,
   "id": "7ada6762",
   "metadata": {},
   "outputs": [],
   "source": [
    "g=\"Gulabjamun\""
   ]
  },
  {
   "cell_type": "code",
   "execution_count": 33,
   "id": "9bd543e9",
   "metadata": {},
   "outputs": [
    {
     "data": {
      "text/plain": [
       "5"
      ]
     },
     "execution_count": 33,
     "metadata": {},
     "output_type": "execute_result"
    }
   ],
   "source": [
    "g.index('j')"
   ]
  },
  {
   "cell_type": "code",
   "execution_count": 35,
   "id": "f93d486a",
   "metadata": {},
   "outputs": [
    {
     "data": {
      "text/plain": [
       "0"
      ]
     },
     "execution_count": 35,
     "metadata": {},
     "output_type": "execute_result"
    }
   ],
   "source": [
    "g.index('G')"
   ]
  },
  {
   "cell_type": "code",
   "execution_count": 38,
   "id": "f0f157c7",
   "metadata": {},
   "outputs": [],
   "source": [
    "h=\"hyperactive123\""
   ]
  },
  {
   "cell_type": "code",
   "execution_count": 39,
   "id": "9b57d07b",
   "metadata": {},
   "outputs": [
    {
     "data": {
      "text/plain": [
       "True"
      ]
     },
     "execution_count": 39,
     "metadata": {},
     "output_type": "execute_result"
    }
   ],
   "source": [
    "h.isalnum()"
   ]
  },
  {
   "cell_type": "code",
   "execution_count": 40,
   "id": "14654c0f",
   "metadata": {},
   "outputs": [],
   "source": [
    "i=\"icecream\""
   ]
  },
  {
   "cell_type": "code",
   "execution_count": 41,
   "id": "8fe2e0b3",
   "metadata": {},
   "outputs": [
    {
     "data": {
      "text/plain": [
       "True"
      ]
     },
     "execution_count": 41,
     "metadata": {},
     "output_type": "execute_result"
    }
   ],
   "source": [
    "i.isalpha()"
   ]
  },
  {
   "cell_type": "code",
   "execution_count": 52,
   "id": "3ae4e148",
   "metadata": {},
   "outputs": [],
   "source": [
    "j=\"    \""
   ]
  },
  {
   "cell_type": "code",
   "execution_count": 55,
   "id": "b933df24",
   "metadata": {},
   "outputs": [
    {
     "data": {
      "text/plain": [
       "True"
      ]
     },
     "execution_count": 55,
     "metadata": {},
     "output_type": "execute_result"
    }
   ],
   "source": [
    "j.isascii()"
   ]
  },
  {
   "cell_type": "code",
   "execution_count": 56,
   "id": "fd6c0a52",
   "metadata": {},
   "outputs": [],
   "source": [
    "k=\"235\""
   ]
  },
  {
   "cell_type": "code",
   "execution_count": 57,
   "id": "ef71b806",
   "metadata": {},
   "outputs": [
    {
     "data": {
      "text/plain": [
       "True"
      ]
     },
     "execution_count": 57,
     "metadata": {},
     "output_type": "execute_result"
    }
   ],
   "source": [
    "k.isdecimal()"
   ]
  },
  {
   "cell_type": "code",
   "execution_count": 58,
   "id": "2f06be33",
   "metadata": {},
   "outputs": [
    {
     "data": {
      "text/plain": [
       "False"
      ]
     },
     "execution_count": 58,
     "metadata": {},
     "output_type": "execute_result"
    }
   ],
   "source": [
    "k.isidentifier()"
   ]
  },
  {
   "cell_type": "code",
   "execution_count": 60,
   "id": "867ebcce",
   "metadata": {},
   "outputs": [
    {
     "data": {
      "text/plain": [
       "False"
      ]
     },
     "execution_count": 60,
     "metadata": {},
     "output_type": "execute_result"
    }
   ],
   "source": [
    "k='2'\n",
    "k.isidentifier()"
   ]
  },
  {
   "cell_type": "code",
   "execution_count": 61,
   "id": "a3f2244f",
   "metadata": {},
   "outputs": [],
   "source": [
    "sri=\"priya\""
   ]
  },
  {
   "cell_type": "code",
   "execution_count": 62,
   "id": "730b85c3",
   "metadata": {},
   "outputs": [
    {
     "data": {
      "text/plain": [
       "True"
      ]
     },
     "execution_count": 62,
     "metadata": {},
     "output_type": "execute_result"
    }
   ],
   "source": [
    "sri.isidentifier()"
   ]
  },
  {
   "cell_type": "code",
   "execution_count": 74,
   "id": "dedadc71",
   "metadata": {},
   "outputs": [],
   "source": [
    "n=\"My Sri\""
   ]
  },
  {
   "cell_type": "code",
   "execution_count": 64,
   "id": "b9c61e5b",
   "metadata": {},
   "outputs": [
    {
     "data": {
      "text/plain": [
       "False"
      ]
     },
     "execution_count": 64,
     "metadata": {},
     "output_type": "execute_result"
    }
   ],
   "source": [
    "n.isnumeric()"
   ]
  },
  {
   "cell_type": "code",
   "execution_count": 69,
   "id": "278ed961",
   "metadata": {},
   "outputs": [
    {
     "data": {
      "text/plain": [
       "True"
      ]
     },
     "execution_count": 69,
     "metadata": {},
     "output_type": "execute_result"
    }
   ],
   "source": [
    "n.isprintable()"
   ]
  },
  {
   "cell_type": "code",
   "execution_count": 70,
   "id": "2f34c654",
   "metadata": {},
   "outputs": [
    {
     "data": {
      "text/plain": [
       "False"
      ]
     },
     "execution_count": 70,
     "metadata": {},
     "output_type": "execute_result"
    }
   ],
   "source": [
    "n.isspace()"
   ]
  },
  {
   "cell_type": "code",
   "execution_count": 75,
   "id": "a6d345bb",
   "metadata": {},
   "outputs": [
    {
     "data": {
      "text/plain": [
       "True"
      ]
     },
     "execution_count": 75,
     "metadata": {},
     "output_type": "execute_result"
    }
   ],
   "source": [
    "n.istitle()"
   ]
  },
  {
   "cell_type": "code",
   "execution_count": 76,
   "id": "a9ef6509",
   "metadata": {},
   "outputs": [
    {
     "data": {
      "text/plain": [
       "'lMy SriaMy Srik'"
      ]
     },
     "execution_count": 76,
     "metadata": {},
     "output_type": "execute_result"
    }
   ],
   "source": [
    "n.join(\"lak\")"
   ]
  },
  {
   "cell_type": "code",
   "execution_count": 77,
   "id": "486f3498",
   "metadata": {},
   "outputs": [],
   "source": [
    "i=\"ice\""
   ]
  },
  {
   "cell_type": "code",
   "execution_count": 78,
   "id": "bc1bea63",
   "metadata": {},
   "outputs": [
    {
     "data": {
      "text/plain": [
       "'cicericeeiceaicem'"
      ]
     },
     "execution_count": 78,
     "metadata": {},
     "output_type": "execute_result"
    }
   ],
   "source": [
    "i.join(\"cream\")"
   ]
  },
  {
   "cell_type": "code",
   "execution_count": null,
   "id": "27c27163",
   "metadata": {},
   "outputs": [],
   "source": []
  },
  {
   "cell_type": "code",
   "execution_count": 82,
   "id": "e1f82bd0",
   "metadata": {},
   "outputs": [
    {
     "data": {
      "text/plain": [
       "'ice'"
      ]
     },
     "execution_count": 82,
     "metadata": {},
     "output_type": "execute_result"
    }
   ],
   "source": [
    "i.lstrip()"
   ]
  },
  {
   "cell_type": "code",
   "execution_count": 87,
   "id": "504b6d32",
   "metadata": {},
   "outputs": [
    {
     "data": {
      "text/plain": [
       "('i', 'c', 'e')"
      ]
     },
     "execution_count": 87,
     "metadata": {},
     "output_type": "execute_result"
    }
   ],
   "source": [
    "i.partition('c')"
   ]
  },
  {
   "cell_type": "code",
   "execution_count": null,
   "id": "dfa651f6",
   "metadata": {},
   "outputs": [],
   "source": [
    "import numpy as np\n",
    "import matplotlib.pyplot as plt\n",
    "from sklearn import svm\n",
    "x=([[1,3],[1,2],])"
   ]
  }
 ],
 "metadata": {
  "kernelspec": {
   "display_name": "Python 3 (ipykernel)",
   "language": "python",
   "name": "python3"
  },
  "language_info": {
   "codemirror_mode": {
    "name": "ipython",
    "version": 3
   },
   "file_extension": ".py",
   "mimetype": "text/x-python",
   "name": "python",
   "nbconvert_exporter": "python",
   "pygments_lexer": "ipython3",
   "version": "3.9.12"
  }
 },
 "nbformat": 4,
 "nbformat_minor": 5
}
