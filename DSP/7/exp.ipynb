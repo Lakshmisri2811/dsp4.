{
 "cells": [
  {
   "cell_type": "code",
   "execution_count": 1,
   "id": "f7042b92",
   "metadata": {},
   "outputs": [],
   "source": [
    "a=10\n",
    "b=20"
   ]
  },
  {
   "cell_type": "code",
   "execution_count": 2,
   "id": "73300fcd",
   "metadata": {},
   "outputs": [
    {
     "name": "stdout",
     "output_type": "stream",
     "text": [
      "30\n"
     ]
    }
   ],
   "source": [
    "sri=a+b\n",
    "print(sri)"
   ]
  },
  {
   "cell_type": "code",
   "execution_count": 3,
   "id": "81730055",
   "metadata": {},
   "outputs": [
    {
     "name": "stdout",
     "output_type": "stream",
     "text": [
      "-10\n"
     ]
    }
   ],
   "source": [
    "sri=a-b\n",
    "print(sri)"
   ]
  },
  {
   "cell_type": "code",
   "execution_count": 4,
   "id": "c5f7e903",
   "metadata": {},
   "outputs": [
    {
     "name": "stdout",
     "output_type": "stream",
     "text": [
      "200\n"
     ]
    }
   ],
   "source": [
    "sri=a*b\n",
    "print(sri)"
   ]
  },
  {
   "cell_type": "code",
   "execution_count": 5,
   "id": "1db01941",
   "metadata": {},
   "outputs": [
    {
     "name": "stdout",
     "output_type": "stream",
     "text": [
      "0.5\n"
     ]
    }
   ],
   "source": [
    "sri=a/b\n",
    "print(sri)"
   ]
  },
  {
   "cell_type": "code",
   "execution_count": 6,
   "id": "31c37cb1",
   "metadata": {},
   "outputs": [
    {
     "name": "stdout",
     "output_type": "stream",
     "text": [
      "0\n"
     ]
    }
   ],
   "source": [
    "sri=a//b\n",
    "print(sri)"
   ]
  },
  {
   "cell_type": "code",
   "execution_count": 7,
   "id": "319bdbb6",
   "metadata": {},
   "outputs": [
    {
     "name": "stdout",
     "output_type": "stream",
     "text": [
      "10\n"
     ]
    }
   ],
   "source": [
    "sri=a%b\n",
    "print(sri)"
   ]
  },
  {
   "cell_type": "code",
   "execution_count": 8,
   "id": "808d517e",
   "metadata": {},
   "outputs": [
    {
     "name": "stdout",
     "output_type": "stream",
     "text": [
      "100000000000000000000\n"
     ]
    }
   ],
   "source": [
    "sri=a**b\n",
    "print(sri)"
   ]
  },
  {
   "cell_type": "markdown",
   "id": "ded63dd5",
   "metadata": {},
   "source": [
    "# Integral expressions"
   ]
  },
  {
   "cell_type": "code",
   "execution_count": 9,
   "id": "7e9a33dc",
   "metadata": {},
   "outputs": [
    {
     "name": "stdout",
     "output_type": "stream",
     "text": [
      "25\n"
     ]
    }
   ],
   "source": [
    "a=12\n",
    "b=13.0\n",
    "c=int(b)+a\n",
    "print(c)"
   ]
  },
  {
   "cell_type": "markdown",
   "id": "82564559",
   "metadata": {},
   "source": [
    "# Floating expressions\n"
   ]
  },
  {
   "cell_type": "code",
   "execution_count": 11,
   "id": "bd0f6a35",
   "metadata": {},
   "outputs": [
    {
     "name": "stdout",
     "output_type": "stream",
     "text": [
      "2.6\n"
     ]
    }
   ],
   "source": [
    "a=13\n",
    "b=5\n",
    "c=a/b\n",
    "print(c)"
   ]
  },
  {
   "cell_type": "code",
   "execution_count": null,
   "id": "1660dfce",
   "metadata": {},
   "outputs": [],
   "source": []
  }
 ],
 "metadata": {
  "kernelspec": {
   "display_name": "Python 3 (ipykernel)",
   "language": "python",
   "name": "python3"
  },
  "language_info": {
   "codemirror_mode": {
    "name": "ipython",
    "version": 3
   },
   "file_extension": ".py",
   "mimetype": "text/x-python",
   "name": "python",
   "nbconvert_exporter": "python",
   "pygments_lexer": "ipython3",
   "version": "3.9.12"
  }
 },
 "nbformat": 4,
 "nbformat_minor": 5
}
