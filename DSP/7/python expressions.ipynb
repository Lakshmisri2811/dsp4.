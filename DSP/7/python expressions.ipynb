{
 "cells": [
  {
   "cell_type": "code",
   "execution_count": 1,
   "id": "a6f44312",
   "metadata": {},
   "outputs": [],
   "source": [
    "a=10\n",
    "b=20"
   ]
  },
  {
   "cell_type": "code",
   "execution_count": 2,
   "id": "8ca8ee2a",
   "metadata": {},
   "outputs": [
    {
     "name": "stdout",
     "output_type": "stream",
     "text": [
      "30\n"
     ]
    }
   ],
   "source": [
    "sri=a+b\n",
    "print(sri)"
   ]
  },
  {
   "cell_type": "code",
   "execution_count": 3,
   "id": "0f8dd6de",
   "metadata": {},
   "outputs": [
    {
     "name": "stdout",
     "output_type": "stream",
     "text": [
      "-10\n"
     ]
    }
   ],
   "source": [
    "sri=a-b\n",
    "print(sri)"
   ]
  },
  {
   "cell_type": "code",
   "execution_count": 4,
   "id": "72a0b78d",
   "metadata": {},
   "outputs": [
    {
     "name": "stdout",
     "output_type": "stream",
     "text": [
      "200\n"
     ]
    }
   ],
   "source": [
    "sri=a*b\n",
    "print(sri)"
   ]
  },
  {
   "cell_type": "code",
   "execution_count": 5,
   "id": "ceb5677d",
   "metadata": {},
   "outputs": [
    {
     "name": "stdout",
     "output_type": "stream",
     "text": [
      "0.5\n"
     ]
    }
   ],
   "source": [
    "sri=a/b\n",
    "print(sri)"
   ]
  },
  {
   "cell_type": "code",
   "execution_count": 6,
   "id": "4f8a729a",
   "metadata": {},
   "outputs": [
    {
     "name": "stdout",
     "output_type": "stream",
     "text": [
      "0\n"
     ]
    }
   ],
   "source": [
    "sri=a//b\n",
    "print(sri)"
   ]
  },
  {
   "cell_type": "code",
   "execution_count": 7,
   "id": "e778db9b",
   "metadata": {},
   "outputs": [
    {
     "name": "stdout",
     "output_type": "stream",
     "text": [
      "10\n"
     ]
    }
   ],
   "source": [
    "sri=a%b\n",
    "print(sri)"
   ]
  },
  {
   "cell_type": "code",
   "execution_count": 8,
   "id": "bc2221f7",
   "metadata": {},
   "outputs": [
    {
     "name": "stdout",
     "output_type": "stream",
     "text": [
      "100000000000000000000\n"
     ]
    }
   ],
   "source": [
    "sri=a**b\n",
    "print(sri)"
   ]
  },
  {
   "cell_type": "markdown",
   "id": "07f88f3d",
   "metadata": {},
   "source": [
    "# Integral expressions"
   ]
  },
  {
   "cell_type": "code",
   "execution_count": 9,
   "id": "3cd4469e",
   "metadata": {},
   "outputs": [
    {
     "name": "stdout",
     "output_type": "stream",
     "text": [
      "25\n"
     ]
    }
   ],
   "source": [
    "a=12\n",
    "b=13.0\n",
    "c=int(b)+a\n",
    "print(c)"
   ]
  },
  {
   "cell_type": "markdown",
   "id": "80c29cfb",
   "metadata": {},
   "source": [
    "# Floating expressions\n"
   ]
  },
  {
   "cell_type": "code",
   "execution_count": 11,
   "id": "1ce6ad04",
   "metadata": {},
   "outputs": [
    {
     "name": "stdout",
     "output_type": "stream",
     "text": [
      "2.6\n"
     ]
    }
   ],
   "source": [
    "a=13\n",
    "b=5\n",
    "c=a/b\n",
    "print(c)"
   ]
  },
  {
   "cell_type": "code",
   "execution_count": null,
   "id": "eaca7cdc",
   "metadata": {},
   "outputs": [],
   "source": []
  }
 ],
 "metadata": {
  "kernelspec": {
   "display_name": "Python 3 (ipykernel)",
   "language": "python",
   "name": "python3"
  },
  "language_info": {
   "codemirror_mode": {
    "name": "ipython",
    "version": 3
   },
   "file_extension": ".py",
   "mimetype": "text/x-python",
   "name": "python",
   "nbconvert_exporter": "python",
   "pygments_lexer": "ipython3",
   "version": "3.9.12"
  }
 },
 "nbformat": 4,
 "nbformat_minor": 5
}
